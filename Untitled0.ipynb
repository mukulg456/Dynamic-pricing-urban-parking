{
  "nbformat": 4,
  "nbformat_minor": 0,
  "metadata": {
    "colab": {
      "provenance": [],
      "authorship_tag": "ABX9TyO9UZNGfEVBIYPjKEelJijK",
      "include_colab_link": true
    },
    "kernelspec": {
      "name": "python3",
      "display_name": "Python 3"
    },
    "language_info": {
      "name": "python"
    }
  },
  "cells": [
    {
      "cell_type": "markdown",
      "metadata": {
        "id": "view-in-github",
        "colab_type": "text"
      },
      "source": [
        "<a href=\"https://colab.research.google.com/github/mukulg456/Dynamic-pricing-urban-parking/blob/main/Untitled0.ipynb\" target=\"_parent\"><img src=\"https://colab.research.google.com/assets/colab-badge.svg\" alt=\"Open In Colab\"/></a>"
      ]
    },
    {
      "cell_type": "code",
      "execution_count": null,
      "metadata": {
        "id": "cG4b7Mgy_Wjr"
      },
      "outputs": [],
      "source": [
        "import pandas as pd\n",
        "import numpy as np\n",
        "\n",
        "# Load dataset\n",
        "df = pd.read_csv('dataset.csv')\n",
        "df.head()"
      ]
    },
    {
      "cell_type": "code",
      "source": [
        "def baseline_linear_model(price, occupancy, capacity, alpha=0.1):\n",
        "    return price + alpha * (occupancy / capacity)\n",
        "\n",
        "# Sample execution\n",
        "initial_price = 10\n",
        "df['baseline_price'] = df.apply(lambda row: baseline_linear_model(initial_price, row['Occupancy'], row['Capacity']), axis=1)\n",
        "df[['Occupancy', 'Capacity', 'baseline_price']].head()\n"
      ],
      "metadata": {
        "id": "QvESzE0G_oyP"
      },
      "execution_count": null,
      "outputs": []
    },
    {
      "cell_type": "code",
      "source": [
        "# Define demand function\n",
        "def calculate_demand(occupancy,capacity,queue,traffic,special_day,vehicle,weights = {'occupancy': 0.6, 'queue': 0.2, 'traffic': 0.1, 'special_day': 0.05, 'vehicle': 0.05}):\n",
        "    demand = (\n",
        "        weights['occupancy'] * (occupancy / capacity) +\n",
        "        weights['queue'] * queue -\n",
        "        weights['traffic'] * traffic +\n",
        "        weights['special_day'] * special_day+\n",
        "        weights['vehicle'] * vehicle\n",
        "    )\n",
        "    return demand\n",
        "\n",
        "# Define pricing function\n",
        "def demand_based_pricing(base_price, demand, lambda_=0.5):\n",
        "    demand = np.clip(demand, -1, 1)\n",
        "    price = base_price * (1 + lambda_ * demand)\n",
        "    return np.clip(price, base_price * 0.5, base_price * 2)\n",
        "\n",
        "df['TrafficConditionNearby1']=df['TrafficConditionNearby'].map({'low':0,'high':1,'average':0.5})\n",
        "df['VehicleType1']=df['VehicleType'].map({'bike':0,'truck':1,'car':0.5})\n",
        "# Apply demand and pricing\n",
        "df['demand'] = df.apply(lambda row: calculate_demand(row['Occupancy'], row['Capacity'],row['QueueLength'],row['TrafficConditionNearby1'],row['IsSpecialDay'],row['VehicleType1']),axis=1)\n",
        "df['demand_price'] = df['demand'].apply(lambda d: demand_based_pricing(10, d))\n",
        "\n",
        "df[['demand', 'demand_price']].head()\n"
      ],
      "metadata": {
        "id": "MDDbk3ha_qFD"
      },
      "execution_count": null,
      "outputs": []
    },
    {
      "cell_type": "code",
      "source": [
        "# Bokeh visualizations go here\n",
        "# Example: Line plot of pricing over time for each parking space\n",
        "from bokeh.plotting import figure, show, output_notebook\n",
        "output_notebook()\n",
        "\n",
        "# Simple example for one parking space\n",
        "df['Time'] = pd.to_datetime(df['LastUpdatedTime'])\n",
        "p = figure(title=\"Pricing Over Time\", x_axis_type='datetime')\n",
        "p.line(df['Time'], df['demand_price'], line_width=0.1, legend_label='Demand-Based Price')\n",
        "show(p)\n"
      ],
      "metadata": {
        "id": "bS9DlOKt_t5f"
      },
      "execution_count": null,
      "outputs": []
    }
  ]
}